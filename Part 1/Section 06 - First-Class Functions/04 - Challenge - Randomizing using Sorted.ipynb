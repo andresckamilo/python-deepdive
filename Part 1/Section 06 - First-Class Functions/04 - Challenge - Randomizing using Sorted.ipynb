{
 "cells": [
  {
   "cell_type": "markdown",
   "metadata": {},
   "source": [
    "### Challenge: Randomizing an Iterable using Sorted"
   ]
  },
  {
   "cell_type": "code",
   "execution_count": 2,
   "metadata": {
    "collapsed": true
   },
   "outputs": [],
   "source": [
    "import random"
   ]
  },
  {
   "cell_type": "code",
   "execution_count": 3,
   "metadata": {},
   "outputs": [
    {
     "name": "stdout",
     "output_type": "stream",
     "text": [
      "Help on built-in function random:\n",
      "\n",
      "random() method of random.Random instance\n",
      "    random() -> x in the interval [0, 1).\n",
      "\n"
     ]
    }
   ],
   "source": [
    "help(random.random)"
   ]
  },
  {
   "cell_type": "code",
   "execution_count": 4,
   "metadata": {},
   "outputs": [
    {
     "data": {
      "text/plain": [
       "0.017336756076758775"
      ]
     },
     "execution_count": 4,
     "metadata": {},
     "output_type": "execute_result"
    }
   ],
   "source": [
    "random.random()"
   ]
  },
  {
   "cell_type": "code",
   "execution_count": 5,
   "metadata": {
    "collapsed": true
   },
   "outputs": [],
   "source": [
    "l = [1, 2, 3, 4, 5, 6, 7, 8, 9, 10]"
   ]
  },
  {
   "cell_type": "code",
   "execution_count": 6,
   "metadata": {},
   "outputs": [
    {
     "data": {
      "text/plain": [
       "[10, 5, 7, 1, 4, 9, 3, 8, 2, 6]"
      ]
     },
     "execution_count": 6,
     "metadata": {},
     "output_type": "execute_result"
    }
   ],
   "source": [
    "sorted(l, key=lambda x: random.random())"
   ]
  },
  {
   "cell_type": "markdown",
   "metadata": {
    "collapsed": true
   },
   "source": [
    "Of course, this works for any iterable:"
   ]
  },
  {
   "cell_type": "code",
   "execution_count": 7,
   "metadata": {},
   "outputs": [
    {
     "data": {
      "text/plain": [
       "['d', 'f', 'g', 'c', 'e', 'a', 'b']"
      ]
     },
     "execution_count": 7,
     "metadata": {},
     "output_type": "execute_result"
    }
   ],
   "source": [
    "sorted('abcdefg', key = lambda x: random.random())"
   ]
  },
  {
   "cell_type": "markdown",
   "metadata": {},
   "source": [
    "And to get a string back instead of just a list:"
   ]
  },
  {
   "cell_type": "code",
   "execution_count": 15,
   "metadata": {},
   "outputs": [
    {
     "data": {
      "text/plain": [
       "'baefdgc'"
      ]
     },
     "execution_count": 15,
     "metadata": {},
     "output_type": "execute_result"
    }
   ],
   "source": [
    "''.join(sorted('abcdefg', key = lambda x: random.random()))"
   ]
  },
  {
   "cell_type": "code",
   "execution_count": 1,
   "metadata": {},
   "outputs": [],
   "source": [
    "def my_func():\n",
    "    pass"
   ]
  },
  {
   "cell_type": "code",
   "execution_count": 5,
   "metadata": {},
   "outputs": [],
   "source": [
    "import inspect"
   ]
  },
  {
   "cell_type": "code",
   "execution_count": 10,
   "metadata": {},
   "outputs": [
    {
     "data": {
      "text/plain": [
       "True"
      ]
     },
     "execution_count": 10,
     "metadata": {},
     "output_type": "execute_result"
    }
   ],
   "source": [
    "inspect.isfunction(my_func)"
   ]
  },
  {
   "cell_type": "code",
   "execution_count": 13,
   "metadata": {},
   "outputs": [],
   "source": [
    "class MyClass:\n",
    "    def func(self):\n",
    "        pass"
   ]
  },
  {
   "cell_type": "code",
   "execution_count": 17,
   "metadata": {},
   "outputs": [
    {
     "data": {
      "text/plain": [
       "True"
      ]
     },
     "execution_count": 17,
     "metadata": {},
     "output_type": "execute_result"
    }
   ],
   "source": [
    "inspect.ismethod(MyClass().func)"
   ]
  },
  {
   "cell_type": "code",
   "execution_count": 25,
   "metadata": {},
   "outputs": [],
   "source": [
    "import instructor"
   ]
  },
  {
   "cell_type": "code",
   "execution_count": 27,
   "metadata": {},
   "outputs": [
    {
     "name": "stdout",
     "output_type": "stream",
     "text": [
      "def patch(\n",
      "    client: Union[OpenAI, AsyncOpenAI] = None,\n",
      "    create: Callable[T_ParamSpec, T_Retval] = None,\n",
      "    mode: Mode = Mode.TOOLS,\n",
      ") -> Union[OpenAI, AsyncOpenAI]:\n",
      "    \"\"\"\n",
      "    Patch the `client.chat.completions.create` method\n",
      "\n",
      "    Enables the following features:\n",
      "\n",
      "    - `response_model` parameter to parse the response from OpenAI's API\n",
      "    - `max_retries` parameter to retry the function if the response is not valid\n",
      "    - `validation_context` parameter to validate the response using the pydantic model\n",
      "    - `strict` parameter to use strict json parsing\n",
      "    \"\"\"\n",
      "\n",
      "    logger.debug(f\"Patching `client.chat.completions.create` with {mode=}\")\n",
      "\n",
      "    if create is not None:\n",
      "        func = create\n",
      "    elif client is not None:\n",
      "        func = client.chat.completions.create\n",
      "    else:\n",
      "        raise ValueError(\"Either client or create must be provided\")\n",
      "\n",
      "    func_is_async = is_async(func)\n",
      "\n",
      "    @wraps(func)\n",
      "    async def new_create_async(\n",
      "        response_model: type[T_Model] = None,\n",
      "        validation_context: dict = None,\n",
      "        max_retries: int = 1,\n",
      "        strict: bool = True,\n",
      "        *args: T_ParamSpec.args,\n",
      "        **kwargs: T_ParamSpec.kwargs,\n",
      "    ) -> T_Model:\n",
      "        response_model, new_kwargs = handle_response_model(\n",
      "            response_model=response_model, mode=mode, **kwargs\n",
      "        )\n",
      "        response = await retry_async(\n",
      "            func=func,\n",
      "            response_model=response_model,\n",
      "            validation_context=validation_context,\n",
      "            max_retries=max_retries,\n",
      "            args=args,\n",
      "            kwargs=new_kwargs,\n",
      "            strict=strict,\n",
      "            mode=mode,\n",
      "        )\n",
      "        return response\n",
      "\n",
      "    @wraps(func)\n",
      "    def new_create_sync(\n",
      "        response_model: type[T_Model] = None,\n",
      "        validation_context: dict = None,\n",
      "        max_retries: int = 1,\n",
      "        strict: bool = True,\n",
      "        *args: T_ParamSpec.args,\n",
      "        **kwargs: T_ParamSpec.kwargs,\n",
      "    ) -> T_Model:\n",
      "        response_model, new_kwargs = handle_response_model(\n",
      "            response_model=response_model, mode=mode, **kwargs\n",
      "        )\n",
      "        response = retry_sync(\n",
      "            func=func,\n",
      "            response_model=response_model,\n",
      "            validation_context=validation_context,\n",
      "            max_retries=max_retries,\n",
      "            args=args,\n",
      "            strict=strict,\n",
      "            kwargs=new_kwargs,\n",
      "            mode=mode,\n",
      "        )\n",
      "        return response\n",
      "\n",
      "    new_create = new_create_async if func_is_async else new_create_sync\n",
      "\n",
      "    if client is not None:\n",
      "        client.chat.completions.create = new_create\n",
      "        return client\n",
      "    else:\n",
      "        return new_create\n",
      "\n"
     ]
    }
   ],
   "source": [
    "print(inspect.getsource(instructor.patch))"
   ]
  },
  {
   "cell_type": "code",
   "execution_count": 18,
   "metadata": {},
   "outputs": [
    {
     "data": {
      "text/plain": [
       "'def my_func():\\n    pass\\n'"
      ]
     },
     "execution_count": 18,
     "metadata": {},
     "output_type": "execute_result"
    }
   ],
   "source": [
    "inspect.getsource(my_func)"
   ]
  },
  {
   "cell_type": "code",
   "execution_count": 28,
   "metadata": {},
   "outputs": [
    {
     "data": {
      "text/plain": [
       "<module 'instructor.patch' from '/home/andresckamilo/.cache/pypoetry/virtualenvs/python-deep-dive-1-puWfdXKF-py3.10/lib/python3.10/site-packages/instructor/patch.py'>"
      ]
     },
     "execution_count": 28,
     "metadata": {},
     "output_type": "execute_result"
    }
   ],
   "source": [
    "inspect.getmodule(instructor.apatch)"
   ]
  },
  {
   "cell_type": "code",
   "execution_count": 33,
   "metadata": {},
   "outputs": [],
   "source": [
    "# TODO: Implement function\n",
    "# some additional notes\n",
    "def my_func(a,b=1):\n",
    "    # Comment inside my func\n",
    "    pass"
   ]
  },
  {
   "cell_type": "code",
   "execution_count": 34,
   "metadata": {},
   "outputs": [
    {
     "data": {
      "text/plain": [
       "'# TODO: Implement function\\n# some additional notes\\n'"
      ]
     },
     "execution_count": 34,
     "metadata": {},
     "output_type": "execute_result"
    }
   ],
   "source": [
    "inspect.getcomments(my_func)"
   ]
  },
  {
   "cell_type": "code",
   "execution_count": 32,
   "metadata": {},
   "outputs": [],
   "source": [
    "inspect.getcomments(instructor.apatch)"
   ]
  },
  {
   "cell_type": "code",
   "execution_count": 2,
   "metadata": {},
   "outputs": [],
   "source": [
    "import inspect"
   ]
  },
  {
   "cell_type": "code",
   "execution_count": 5,
   "metadata": {},
   "outputs": [],
   "source": [
    "def my_func(a:int,b,*,c=3,d=20, **kwargs):\n",
    "    print(a)"
   ]
  },
  {
   "cell_type": "code",
   "execution_count": 8,
   "metadata": {},
   "outputs": [
    {
     "name": "stdout",
     "output_type": "stream",
     "text": [
      "Name\n",
      "Default:  <class 'inspect._empty'>\n",
      "Annotation:  <class 'int'>\n",
      "Kind:  POSITIONAL_OR_KEYWORD\n",
      "Name\n",
      "Default:  <class 'inspect._empty'>\n",
      "Annotation:  <class 'inspect._empty'>\n",
      "Kind:  POSITIONAL_OR_KEYWORD\n",
      "Name\n",
      "Default:  3\n",
      "Annotation:  <class 'inspect._empty'>\n",
      "Kind:  KEYWORD_ONLY\n",
      "Name\n",
      "Default:  20\n",
      "Annotation:  <class 'inspect._empty'>\n",
      "Kind:  KEYWORD_ONLY\n",
      "Name\n",
      "Default:  <class 'inspect._empty'>\n",
      "Annotation:  <class 'inspect._empty'>\n",
      "Kind:  VAR_KEYWORD\n"
     ]
    }
   ],
   "source": [
    "for param in inspect.signature(my_func).parameters.values():\n",
    "    print('Name')\n",
    "    print('Default: ', param.default)\n",
    "    print('Annotation: ', param.annotation)\n",
    "    print('Kind: ',param.kind)"
   ]
  }
 ],
 "metadata": {
  "kernelspec": {
   "display_name": "Python 3",
   "language": "python",
   "name": "python3"
  },
  "language_info": {
   "codemirror_mode": {
    "name": "ipython",
    "version": 3
   },
   "file_extension": ".py",
   "mimetype": "text/x-python",
   "name": "python",
   "nbconvert_exporter": "python",
   "pygments_lexer": "ipython3",
   "version": "3.10.12"
  }
 },
 "nbformat": 4,
 "nbformat_minor": 2
}
